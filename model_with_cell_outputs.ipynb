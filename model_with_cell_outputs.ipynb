{
 "cells": [
  {
   "cell_type": "code",
   "execution_count": 1,
   "id": "b6a1ead3",
   "metadata": {},
   "outputs": [
    {
     "name": "stdout",
     "output_type": "stream",
     "text": [
      "Requirement already satisfied: numpy in /opt/conda/lib/python3.9/site-packages (1.21.0)\n",
      "Requirement already satisfied: pandas in /opt/conda/lib/python3.9/site-packages (1.2.5)\n",
      "Requirement already satisfied: sklearn in /opt/conda/lib/python3.9/site-packages (0.0)\n",
      "Requirement already satisfied: matplotlib in /opt/conda/lib/python3.9/site-packages (3.4.2)\n",
      "Requirement already satisfied: openpyxl in /opt/conda/lib/python3.9/site-packages (3.0.7)\n",
      "Requirement already satisfied: tensorflow in /opt/conda/lib/python3.9/site-packages (2.4.1)\n",
      "Requirement already satisfied: tensorflow_hub in /opt/conda/lib/python3.9/site-packages (0.12.0)\n",
      "Requirement already satisfied: nltk in /opt/conda/lib/python3.9/site-packages (3.6.2)\n",
      "Requirement already satisfied: python-dateutil>=2.7.3 in /opt/conda/lib/python3.9/site-packages (from pandas) (2.8.1)\n",
      "Requirement already satisfied: pytz>=2017.3 in /opt/conda/lib/python3.9/site-packages (from pandas) (2021.1)\n",
      "Requirement already satisfied: six>=1.5 in /opt/conda/lib/python3.9/site-packages (from python-dateutil>=2.7.3->pandas) (1.15.0)\n",
      "Requirement already satisfied: scikit-learn in /opt/conda/lib/python3.9/site-packages (from sklearn) (0.24.2)\n",
      "Requirement already satisfied: kiwisolver>=1.0.1 in /opt/conda/lib/python3.9/site-packages (from matplotlib) (1.3.1)\n",
      "Requirement already satisfied: pyparsing>=2.2.1 in /opt/conda/lib/python3.9/site-packages (from matplotlib) (2.4.7)\n",
      "Requirement already satisfied: cycler>=0.10 in /opt/conda/lib/python3.9/site-packages (from matplotlib) (0.10.0)\n",
      "Requirement already satisfied: pillow>=6.2.0 in /opt/conda/lib/python3.9/site-packages (from matplotlib) (8.2.0)\n",
      "Requirement already satisfied: et-xmlfile in /opt/conda/lib/python3.9/site-packages (from openpyxl) (1.1.0)\n",
      "Requirement already satisfied: google-pasta~=0.2 in /opt/conda/lib/python3.9/site-packages (from tensorflow) (0.2.0)\n",
      "Requirement already satisfied: protobuf>=3.9.2 in /opt/conda/lib/python3.9/site-packages (from tensorflow) (3.15.8)\n",
      "Requirement already satisfied: astunparse~=1.6.3 in /opt/conda/lib/python3.9/site-packages (from tensorflow) (1.6.3)\n",
      "Requirement already satisfied: absl-py~=0.10 in /opt/conda/lib/python3.9/site-packages (from tensorflow) (0.13.0)\n",
      "Requirement already satisfied: h5py~=2.10.0 in /opt/conda/lib/python3.9/site-packages (from tensorflow) (2.10.0)\n",
      "Requirement already satisfied: keras-preprocessing~=1.1.2 in /opt/conda/lib/python3.9/site-packages (from tensorflow) (1.1.2)\n",
      "Requirement already satisfied: opt-einsum~=3.3.0 in /opt/conda/lib/python3.9/site-packages (from tensorflow) (3.3.0)\n",
      "Requirement already satisfied: typing-extensions~=3.7.4 in /opt/conda/lib/python3.9/site-packages (from tensorflow) (3.7.4.3)\n",
      "Requirement already satisfied: tensorboard~=2.4 in /opt/conda/lib/python3.9/site-packages (from tensorflow) (2.4.1)\n",
      "Requirement already satisfied: tensorflow-estimator<2.5.0,>=2.4.0 in /opt/conda/lib/python3.9/site-packages (from tensorflow) (2.4.0)\n",
      "Requirement already satisfied: wheel~=0.35 in /opt/conda/lib/python3.9/site-packages (from tensorflow) (0.36.2)\n",
      "Requirement already satisfied: termcolor~=1.1.0 in /opt/conda/lib/python3.9/site-packages (from tensorflow) (1.1.0)\n",
      "Requirement already satisfied: wrapt~=1.12.1 in /opt/conda/lib/python3.9/site-packages (from tensorflow) (1.12.1)\n",
      "Requirement already satisfied: grpcio~=1.37 in /opt/conda/lib/python3.9/site-packages (from tensorflow) (1.37.1)\n",
      "Requirement already satisfied: gast==0.3.3 in /opt/conda/lib/python3.9/site-packages (from tensorflow) (0.3.3)\n",
      "Requirement already satisfied: flatbuffers~=1.12.0 in /opt/conda/lib/python3.9/site-packages (from tensorflow) (1.12)\n",
      "Requirement already satisfied: google-auth<2,>=1.6.3 in /opt/conda/lib/python3.9/site-packages (from tensorboard~=2.4->tensorflow) (1.30.2)\n",
      "Requirement already satisfied: google-auth-oauthlib<0.5,>=0.4.1 in /opt/conda/lib/python3.9/site-packages (from tensorboard~=2.4->tensorflow) (0.4.1)\n",
      "Requirement already satisfied: setuptools>=41.0.0 in /opt/conda/lib/python3.9/site-packages (from tensorboard~=2.4->tensorflow) (49.6.0.post20210108)\n",
      "Requirement already satisfied: markdown>=2.6.8 in /opt/conda/lib/python3.9/site-packages (from tensorboard~=2.4->tensorflow) (3.3.4)\n",
      "Requirement already satisfied: werkzeug>=0.11.15 in /opt/conda/lib/python3.9/site-packages (from tensorboard~=2.4->tensorflow) (2.0.1)\n",
      "Requirement already satisfied: requests<3,>=2.21.0 in /opt/conda/lib/python3.9/site-packages (from tensorboard~=2.4->tensorflow) (2.25.1)\n",
      "Requirement already satisfied: tensorboard-plugin-wit>=1.6.0 in /opt/conda/lib/python3.9/site-packages (from tensorboard~=2.4->tensorflow) (1.8.0)\n",
      "Requirement already satisfied: pyasn1-modules>=0.2.1 in /opt/conda/lib/python3.9/site-packages (from google-auth<2,>=1.6.3->tensorboard~=2.4->tensorflow) (0.2.7)\n",
      "Requirement already satisfied: rsa<5,>=3.1.4 in /opt/conda/lib/python3.9/site-packages (from google-auth<2,>=1.6.3->tensorboard~=2.4->tensorflow) (4.7.2)\n",
      "Requirement already satisfied: cachetools<5.0,>=2.0.0 in /opt/conda/lib/python3.9/site-packages (from google-auth<2,>=1.6.3->tensorboard~=2.4->tensorflow) (4.2.2)\n",
      "Requirement already satisfied: requests-oauthlib>=0.7.0 in /opt/conda/lib/python3.9/site-packages (from google-auth-oauthlib<0.5,>=0.4.1->tensorboard~=2.4->tensorflow) (1.3.0)\n",
      "Requirement already satisfied: pyasn1<0.5.0,>=0.4.6 in /opt/conda/lib/python3.9/site-packages (from pyasn1-modules>=0.2.1->google-auth<2,>=1.6.3->tensorboard~=2.4->tensorflow) (0.4.8)\n",
      "Requirement already satisfied: idna<3,>=2.5 in /opt/conda/lib/python3.9/site-packages (from requests<3,>=2.21.0->tensorboard~=2.4->tensorflow) (2.10)\n",
      "Requirement already satisfied: chardet<5,>=3.0.2 in /opt/conda/lib/python3.9/site-packages (from requests<3,>=2.21.0->tensorboard~=2.4->tensorflow) (4.0.0)\n",
      "Requirement already satisfied: certifi>=2017.4.17 in /opt/conda/lib/python3.9/site-packages (from requests<3,>=2.21.0->tensorboard~=2.4->tensorflow) (2021.5.30)\n",
      "Requirement already satisfied: urllib3<1.27,>=1.21.1 in /opt/conda/lib/python3.9/site-packages (from requests<3,>=2.21.0->tensorboard~=2.4->tensorflow) (1.26.5)\n",
      "Requirement already satisfied: oauthlib>=3.0.0 in /opt/conda/lib/python3.9/site-packages (from requests-oauthlib>=0.7.0->google-auth-oauthlib<0.5,>=0.4.1->tensorboard~=2.4->tensorflow) (3.1.1)\n",
      "Requirement already satisfied: regex in /opt/conda/lib/python3.9/site-packages (from nltk) (2021.4.4)\n",
      "Requirement already satisfied: click in /opt/conda/lib/python3.9/site-packages (from nltk) (8.0.1)\n",
      "Requirement already satisfied: tqdm in /opt/conda/lib/python3.9/site-packages (from nltk) (4.61.1)\n",
      "Requirement already satisfied: joblib in /opt/conda/lib/python3.9/site-packages (from nltk) (1.0.1)\n",
      "Requirement already satisfied: threadpoolctl>=2.0.0 in /opt/conda/lib/python3.9/site-packages (from scikit-learn->sklearn) (2.1.0)\n",
      "Requirement already satisfied: scipy>=0.19.1 in /opt/conda/lib/python3.9/site-packages (from scikit-learn->sklearn) (1.6.3)\n"
     ]
    }
   ],
   "source": [
    "!pip install \\\n",
    "    numpy \\\n",
    "    pandas \\\n",
    "    sklearn \\\n",
    "    matplotlib \\\n",
    "    openpyxl \\\n",
    "    tensorflow \\\n",
    "    tensorflow_hub \\\n",
    "    nltk"
   ]
  },
  {
   "cell_type": "code",
   "execution_count": 2,
   "id": "344d2139",
   "metadata": {
    "scrolled": true
   },
   "outputs": [],
   "source": [
    "import re\n",
    "import numpy as np\n",
    "import pandas as pd\n",
    "from sklearn.model_selection import train_test_split\n",
    "import matplotlib.pyplot as plt\n",
    "\n",
    "import tensorflow as tf\n",
    "import tensorflow_hub as hub"
   ]
  },
  {
   "cell_type": "code",
   "execution_count": 3,
   "id": "924d60ba",
   "metadata": {},
   "outputs": [],
   "source": [
    "# read in data\n",
    "raw_data = pd.read_excel('purchase_orders_final.xlsx')"
   ]
  },
  {
   "cell_type": "code",
   "execution_count": 4,
   "id": "58922dcb",
   "metadata": {},
   "outputs": [],
   "source": [
    "# remove contracts with the same name\n",
    "# to avoid data leakage between training and validation data\n",
    "# which would lead to inflated accuracy scores\n",
    "raw_data = raw_data.drop_duplicates(subset=['CONTRACT_NAME'])"
   ]
  },
  {
   "cell_type": "code",
   "execution_count": 5,
   "id": "9ec641e7",
   "metadata": {},
   "outputs": [],
   "source": [
    "data = pd.DataFrame()\n",
    "\n",
    "# create a single combined feature based on the three fields with most obvious predictive power\n",
    "data['feature'] = raw_data['CONTRACT_NAME'].astype(str) + ' ' + \\\n",
    "                  raw_data['EXTENDED_DESCRIPTION'].astype(str) + ' ' + \\\n",
    "                  raw_data['VENDOR_NAME'].astype(str)\n",
    "# ignoring other fields for now because a simpler model is more easily trained, retrained, and explained\n",
    "# and there is no point making a more complicated model when a simpler one will be sufficient"
   ]
  },
  {
   "cell_type": "code",
   "execution_count": 6,
   "id": "259b2365",
   "metadata": {},
   "outputs": [
    {
     "name": "stdout",
     "output_type": "stream",
     "text": [
      "0        critical materials supply arrangement transfor...\n",
      "1        forecasted jobs transformer pad mounted phase ...\n",
      "2        apac texas hot mix various sections nan apac t...\n",
      "3                           apac hotmix nan apac texas inc\n",
      "7        tessco do request see attached thick mount rg ...\n",
      "                               ...                        \n",
      "28414    evs quote buyboard pricing_ evs quote buyboard...\n",
      "28418    bsd october purchase of trash cans nan w w gra...\n",
      "28420    lowe s concrete crew brad kirk saws and locks ...\n",
      "28423    grainger chipping hammer blades uer guerrero n...\n",
      "28428    insight quote u s communities insight quote mr...\n",
      "Name: feature, Length: 6551, dtype: object\n"
     ]
    }
   ],
   "source": [
    "# clean and prep the feature data\n",
    "# << TODO: investigate relevance of digits or punctuation for further iterations >>\n",
    "\n",
    "# - remove digits\n",
    "data['feature'] = data['feature'].str.replace(r'\\d+', ' ', regex=True)\n",
    "\n",
    "# - remove punctuation\n",
    "data['feature'] = data['feature'].str.replace(r'[^\\w\\s]+', ' ', regex=True)\n",
    "\n",
    "# - remove repeated whitespace\n",
    "data['feature'] = data['feature'].str.replace(r'\\s+', ' ', regex=True)\n",
    "\n",
    "# - convert to lowercase\n",
    "data['feature'] = data['feature'].str.lower()\n",
    "\n",
    "print(data['feature'])"
   ]
  },
  {
   "cell_type": "code",
   "execution_count": 7,
   "id": "e8cf7b0b",
   "metadata": {},
   "outputs": [
    {
     "name": "stdout",
     "output_type": "stream",
     "text": [
      "0        critical materials supply arrangement transfor...\n",
      "1        forecasted jobs transformer pad mounted phase ...\n",
      "2        apac texas hot mix various sections nan apac t...\n",
      "3                           apac hotmix nan apac texas inc\n",
      "7        tessco request see attached thick mount rg u d...\n",
      "                               ...                        \n",
      "28414    evs quote buyboard pricing_ evs quote buyboard...\n",
      "28418    bsd october purchase trash cans nan w w graing...\n",
      "28420    lowe concrete crew brad kirk saws locks nan lo...\n",
      "28423    grainger chipping hammer blades uer guerrero n...\n",
      "28428    insight quote u communities insight quote mr h...\n",
      "Name: feature, Length: 6551, dtype: object\n"
     ]
    },
    {
     "name": "stderr",
     "output_type": "stream",
     "text": [
      "[nltk_data] Downloading package stopwords to /home/jovyan/nltk_data...\n",
      "[nltk_data]   Package stopwords is already up-to-date!\n"
     ]
    }
   ],
   "source": [
    "# remove english stop words which will contain little predictive power\n",
    "# and will distract from the more important vocabulary within the feature\n",
    "\n",
    "import nltk\n",
    "nltk.download('stopwords')\n",
    "from nltk.corpus import stopwords\n",
    "stop = stopwords.words('english')\n",
    "\n",
    "def remove_stopwords(sentence):\n",
    "    return \" \".join([word\n",
    "                     for word in sentence.split(\" \")\n",
    "                     if word not in stop])\n",
    "\n",
    "data['feature'] = data['feature'].apply(remove_stopwords)\n",
    "\n",
    "print(data['feature'])"
   ]
  },
  {
   "cell_type": "code",
   "execution_count": 8,
   "id": "841c5c92",
   "metadata": {},
   "outputs": [
    {
     "name": "stdout",
     "output_type": "stream",
     "text": [
      "    COMMODITY_CODE                              COMMODITY_DESCRIPTION\n",
      "0            28586  Transformers, Power Distribution (Incl. Fluid ...\n",
      "2          7452114  ASPHALTIC CONCRETE, HOT MIX, IN ACCORDANCE WIT...\n",
      "7            72582     Two-Way Radio Supplies, Parts, and Accessories\n",
      "8            20464  Network Components: Adapter Cards, Bridges, Co...\n",
      "9            28574  Pole Line Hardware: Anchors, Arms, Bolts, Braces,\n",
      "14           80072                                  Shoes, Safety Toe\n",
      "22           20811                Application Software, Microcomputer\n",
      "24           54523      Impact Tools, Air Powered (Not Road Building)\n",
      "27         7450841                                 EMULSIONS, ASPHALT\n",
      "39          555444                                  LIGHTS, EMERGENCY\n"
     ]
    }
   ],
   "source": [
    "# inspect the number of labels (codes)\n",
    "codes = raw_data[['COMMODITY_CODE', 'COMMODITY_DESCRIPTION']].drop_duplicates()\n",
    "print(codes)"
   ]
  },
  {
   "cell_type": "code",
   "execution_count": 9,
   "id": "91c7c68b",
   "metadata": {},
   "outputs": [
    {
     "name": "stdout",
     "output_type": "stream",
     "text": [
      "       20464    20811    28574    28586    54523    72582    80072    555444   \\\n",
      "0            0        0        0        1        0        0        0        0   \n",
      "1            0        0        0        1        0        0        0        0   \n",
      "2            0        0        0        0        0        0        0        0   \n",
      "3            0        0        0        0        0        0        0        0   \n",
      "7            0        0        0        0        0        1        0        0   \n",
      "...        ...      ...      ...      ...      ...      ...      ...      ...   \n",
      "28414        0        0        0        0        0        0        0        1   \n",
      "28418        0        0        0        0        1        0        0        0   \n",
      "28420        0        0        0        0        1        0        0        0   \n",
      "28423        0        0        0        0        1        0        0        0   \n",
      "28428        1        0        0        0        0        0        0        0   \n",
      "\n",
      "       7450841  7452114  \n",
      "0            0        0  \n",
      "1            0        0  \n",
      "2            0        1  \n",
      "3            0        1  \n",
      "7            0        0  \n",
      "...        ...      ...  \n",
      "28414        0        0  \n",
      "28418        0        0  \n",
      "28420        0        0  \n",
      "28423        0        0  \n",
      "28428        0        0  \n",
      "\n",
      "[6551 rows x 10 columns]\n"
     ]
    }
   ],
   "source": [
    "# the comodity codes are simply IDs, for the purpose of simpler model training use one hot encoding\n",
    "onehot = pd.get_dummies(raw_data['COMMODITY_CODE'])\n",
    "\n",
    "print(onehot)"
   ]
  },
  {
   "cell_type": "code",
   "execution_count": 10,
   "id": "669686e2",
   "metadata": {},
   "outputs": [
    {
     "name": "stdout",
     "output_type": "stream",
     "text": [
      "                                                 feature  20464  20811  28574  \\\n",
      "0      critical materials supply arrangement transfor...      0      0      0   \n",
      "1      forecasted jobs transformer pad mounted phase ...      0      0      0   \n",
      "2      apac texas hot mix various sections nan apac t...      0      0      0   \n",
      "3                         apac hotmix nan apac texas inc      0      0      0   \n",
      "7      tessco request see attached thick mount rg u d...      0      0      0   \n",
      "...                                                  ...    ...    ...    ...   \n",
      "28414  evs quote buyboard pricing_ evs quote buyboard...      0      0      0   \n",
      "28418  bsd october purchase trash cans nan w w graing...      0      0      0   \n",
      "28420  lowe concrete crew brad kirk saws locks nan lo...      0      0      0   \n",
      "28423  grainger chipping hammer blades uer guerrero n...      0      0      0   \n",
      "28428  insight quote u communities insight quote mr h...      1      0      0   \n",
      "\n",
      "       28586  54523  72582  80072  555444  7450841  7452114  \n",
      "0          1      0      0      0       0        0        0  \n",
      "1          1      0      0      0       0        0        0  \n",
      "2          0      0      0      0       0        0        1  \n",
      "3          0      0      0      0       0        0        1  \n",
      "7          0      0      1      0       0        0        0  \n",
      "...      ...    ...    ...    ...     ...      ...      ...  \n",
      "28414      0      0      0      0       1        0        0  \n",
      "28418      0      1      0      0       0        0        0  \n",
      "28420      0      1      0      0       0        0        0  \n",
      "28423      0      1      0      0       0        0        0  \n",
      "28428      0      0      0      0       0        0        0  \n",
      "\n",
      "[6551 rows x 11 columns]\n"
     ]
    }
   ],
   "source": [
    "# combine feature and labels into a single dataframe\n",
    "data = data['feature'].to_frame()\n",
    "\n",
    "data = data.join(onehot)\n",
    "\n",
    "print(data)"
   ]
  },
  {
   "cell_type": "code",
   "execution_count": 11,
   "id": "a1152da8",
   "metadata": {},
   "outputs": [],
   "source": [
    "# split data into train and test samples\n",
    "train, test = train_test_split(data, test_size=0.2)\n",
    "\n",
    "\n",
    "# split data into input and label\n",
    "labels = codes['COMMODITY_CODE'].tolist()\n",
    "\n",
    "train_input = train['feature']\n",
    "train_labels = train[labels]\n",
    "\n",
    "test_input = test['feature']\n",
    "test_labels = test[labels]"
   ]
  },
  {
   "cell_type": "code",
   "execution_count": 12,
   "id": "423c3a69",
   "metadata": {},
   "outputs": [
    {
     "name": "stdout",
     "output_type": "stream",
     "text": [
      "GPU is NOT AVAILABLE\n"
     ]
    }
   ],
   "source": [
    "# check whether GPU is avaliable\n",
    "print(\"GPU is\", \"available\" if tf.config.list_physical_devices('GPU') else \"NOT AVAILABLE\")"
   ]
  },
  {
   "cell_type": "code",
   "execution_count": 13,
   "id": "465e1c6a",
   "metadata": {},
   "outputs": [
    {
     "name": "stdout",
     "output_type": "stream",
     "text": [
      "tf.Tensor(\n",
      "[[ 1.51969910e-01 -4.78181720e-01  1.81270421e-01  1.14537030e-01\n",
      "   8.38414580e-02 -2.26636291e-01 -1.64637491e-01  1.27808332e-01\n",
      "  -2.76902854e-01 -2.20828503e-01 -5.42066768e-02  3.68506551e-01\n",
      "   3.42955470e-01 -5.81438653e-02 -2.51197040e-01 -5.83116636e-02\n",
      "   3.78715605e-01  1.63032025e-01  3.33937965e-02 -1.82106465e-01\n",
      "  -7.32157528e-02 -8.10966641e-02  2.11484477e-01 -9.39105973e-02\n",
      "  -3.08622178e-02 -1.71317272e-02  1.85281545e-01  1.81035727e-01\n",
      "  -1.60581376e-02 -1.30918860e-01  1.88055262e-01 -3.45804036e-01\n",
      "  -3.21992010e-01 -1.80089206e-01 -1.14186406e-02 -2.23952532e-01\n",
      "   7.19299316e-02 -2.68653423e-01  1.28609136e-01 -2.41064310e-01\n",
      "   1.08152535e-02 -1.26258194e-01  1.28682237e-02 -4.08498868e-02\n",
      "  -1.29366204e-01  6.34286106e-02 -5.90109676e-02  1.85215622e-01\n",
      "  -5.83765423e-03  1.65311545e-01]\n",
      " [-2.30611160e-01 -2.56147623e-01 -2.52227247e-01 -5.00734784e-02\n",
      "   1.05996162e-01  8.41839239e-02  2.17133865e-01 -2.77580228e-03\n",
      "  -1.28311202e-01 -3.92495841e-01  6.96617961e-02  3.65326107e-01\n",
      "   9.20899361e-02  2.37913892e-01 -8.98782611e-02 -4.69723940e-02\n",
      "   1.29114866e-01  1.32251680e-01  1.01199307e-01 -1.62744105e-01\n",
      "  -2.73334801e-01 -3.81037630e-02 -1.49821624e-01  1.23555765e-01\n",
      "  -6.85235038e-02 -5.77196442e-02 -4.06990089e-02 -2.10647061e-01\n",
      "   1.99700698e-01  2.98467930e-04 -1.74603269e-01 -6.20855503e-02\n",
      "   5.72570451e-02 -1.41648099e-01  9.52949151e-02 -1.71405375e-01\n",
      "   4.80534136e-02  4.26074564e-02  4.52161394e-02 -8.37169215e-02\n",
      "   6.85776621e-02 -1.88986629e-01  1.99698098e-02 -2.38059778e-02\n",
      "   1.32721895e-02 -3.67623530e-02  2.21624687e-01  7.93771073e-02\n",
      "   4.00170356e-01  1.69887796e-01]], shape=(2, 50), dtype=float32)\n"
     ]
    }
   ],
   "source": [
    "# download text embedding layer from TensorFlow hub\n",
    "# << TODO: investigate performance using other avliable embedding layers >>\n",
    "# << TODO: investigate extending embedding to perform better with less specific vocabulary in data >>\n",
    "model = \"https://tfhub.dev/google/nnlm-en-dim50/2\"\n",
    "hub_layer = hub.KerasLayer(model, input_shape=[], dtype=tf.string, trainable=True)\n",
    "\n",
    "# output two sample feature embeddings\n",
    "print(hub_layer(train_input[:2]))"
   ]
  },
  {
   "cell_type": "code",
   "execution_count": 14,
   "id": "f34b671a",
   "metadata": {},
   "outputs": [
    {
     "name": "stdout",
     "output_type": "stream",
     "text": [
      "Model: \"sequential\"\n",
      "_________________________________________________________________\n",
      "Layer (type)                 Output Shape              Param #   \n",
      "=================================================================\n",
      "keras_layer (KerasLayer)     (None, 50)                48190600  \n",
      "_________________________________________________________________\n",
      "dense (Dense)                (None, 10)                510       \n",
      "=================================================================\n",
      "Total params: 48,191,110\n",
      "Trainable params: 48,191,110\n",
      "Non-trainable params: 0\n",
      "_________________________________________________________________\n"
     ]
    }
   ],
   "source": [
    "# build simple two layer sequential Keras model using\n",
    "# - text embedding layer\n",
    "# - simple dense layer outputing to a node for each commodity code\n",
    "model = tf.keras.Sequential()\n",
    "model.add(hub_layer)\n",
    "model.add(tf.keras.layers.Dense(len(labels), activation='relu'))\n",
    "\n",
    "model.summary()"
   ]
  },
  {
   "cell_type": "code",
   "execution_count": 15,
   "id": "4a8267bc",
   "metadata": {},
   "outputs": [],
   "source": [
    "# compile model with choice of standard optimizer and loss functions\n",
    "# << TODO: investigate performance using different optimizer and loss functions >>\n",
    "\n",
    "model.compile(optimizer='adam',\n",
    "              loss=tf.losses.BinaryCrossentropy(from_logits=True),\n",
    "              metrics=[tf.metrics.BinaryAccuracy(threshold=0.0, name='accuracy')])"
   ]
  },
  {
   "cell_type": "code",
   "execution_count": 16,
   "id": "403f8ff5",
   "metadata": {},
   "outputs": [
    {
     "name": "stdout",
     "output_type": "stream",
     "text": [
      "Epoch 1/20\n",
      "5/5 [==============================] - 3s 607ms/step - loss: 0.7619 - accuracy: 0.4702 - val_loss: 0.7463 - val_accuracy: 0.5197\n",
      "Epoch 2/20\n",
      "5/5 [==============================] - 3s 515ms/step - loss: 0.7413 - accuracy: 0.5447 - val_loss: 0.7304 - val_accuracy: 0.5818\n",
      "Epoch 3/20\n",
      "5/5 [==============================] - 2s 504ms/step - loss: 0.7254 - accuracy: 0.6061 - val_loss: 0.7181 - val_accuracy: 0.6498\n",
      "Epoch 4/20\n",
      "5/5 [==============================] - 3s 508ms/step - loss: 0.7131 - accuracy: 0.6846 - val_loss: 0.7092 - val_accuracy: 0.7072\n",
      "Epoch 5/20\n",
      "5/5 [==============================] - 3s 522ms/step - loss: 0.7045 - accuracy: 0.7475 - val_loss: 0.7031 - val_accuracy: 0.7563\n",
      "Epoch 6/20\n",
      "5/5 [==============================] - 3s 511ms/step - loss: 0.6991 - accuracy: 0.8013 - val_loss: 0.6991 - val_accuracy: 0.7953\n",
      "Epoch 7/20\n",
      "5/5 [==============================] - 3s 510ms/step - loss: 0.6956 - accuracy: 0.8425 - val_loss: 0.6965 - val_accuracy: 0.8290\n",
      "Epoch 8/20\n",
      "5/5 [==============================] - 3s 512ms/step - loss: 0.6936 - accuracy: 0.8722 - val_loss: 0.6949 - val_accuracy: 0.8512\n",
      "Epoch 9/20\n",
      "5/5 [==============================] - 2s 501ms/step - loss: 0.6922 - accuracy: 0.8908 - val_loss: 0.6937 - val_accuracy: 0.8673\n",
      "Epoch 10/20\n",
      "5/5 [==============================] - 3s 509ms/step - loss: 0.6912 - accuracy: 0.9039 - val_loss: 0.6928 - val_accuracy: 0.8773\n",
      "Epoch 11/20\n",
      "5/5 [==============================] - 2s 505ms/step - loss: 0.6899 - accuracy: 0.9157 - val_loss: 0.6919 - val_accuracy: 0.8848\n",
      "Epoch 12/20\n",
      "5/5 [==============================] - 3s 506ms/step - loss: 0.6889 - accuracy: 0.9203 - val_loss: 0.6909 - val_accuracy: 0.8889\n",
      "Epoch 13/20\n",
      "5/5 [==============================] - 3s 505ms/step - loss: 0.6879 - accuracy: 0.9229 - val_loss: 0.6899 - val_accuracy: 0.8912\n",
      "Epoch 14/20\n",
      "5/5 [==============================] - 2s 502ms/step - loss: 0.6865 - accuracy: 0.9239 - val_loss: 0.6888 - val_accuracy: 0.8927\n",
      "Epoch 15/20\n",
      "5/5 [==============================] - 3s 505ms/step - loss: 0.6852 - accuracy: 0.9237 - val_loss: 0.6877 - val_accuracy: 0.8938\n",
      "Epoch 16/20\n",
      "5/5 [==============================] - 2s 495ms/step - loss: 0.6837 - accuracy: 0.9279 - val_loss: 0.6865 - val_accuracy: 0.8941\n",
      "Epoch 17/20\n",
      "5/5 [==============================] - 3s 509ms/step - loss: 0.6825 - accuracy: 0.9270 - val_loss: 0.6851 - val_accuracy: 0.8964\n",
      "Epoch 18/20\n",
      "5/5 [==============================] - 2s 502ms/step - loss: 0.6805 - accuracy: 0.9311 - val_loss: 0.6837 - val_accuracy: 0.8988\n",
      "Epoch 19/20\n",
      "5/5 [==============================] - 2s 503ms/step - loss: 0.6796 - accuracy: 0.9313 - val_loss: 0.6822 - val_accuracy: 0.8989\n",
      "Epoch 20/20\n",
      "5/5 [==============================] - 3s 510ms/step - loss: 0.6776 - accuracy: 0.9329 - val_loss: 0.6806 - val_accuracy: 0.8978\n"
     ]
    }
   ],
   "source": [
    "EPOCHS = 20\n",
    "\n",
    "# train the model\n",
    "# fit the model to the training data using the Keras method .fit()\n",
    "history = model.fit(train_input,\n",
    "                    train_labels,\n",
    "                    epochs=EPOCHS,\n",
    "                    batch_size=256,\n",
    "                    shuffle=True,\n",
    "                    validation_split=0.8,\n",
    "                    verbose=1)"
   ]
  },
  {
   "cell_type": "code",
   "execution_count": 17,
   "id": "cb2d7c66",
   "metadata": {},
   "outputs": [
    {
     "name": "stdout",
     "output_type": "stream",
     "text": [
      "41/41 [==============================] - 0s 1ms/step - loss: 0.6811 - accuracy: 0.8953\n",
      "Test Loss:  0.6810747385025024\n",
      "Test Accuracy:  0.895270824432373\n"
     ]
    }
   ],
   "source": [
    "# compute results on test data\n",
    "\n",
    "test_loss, test_accuracy = model.evaluate(test_input, test_labels)\n",
    "\n",
    "print(\"Test Loss: \", test_loss)\n",
    "print(\"Test Accuracy: \", test_accuracy)"
   ]
  },
  {
   "cell_type": "code",
   "execution_count": 49,
   "id": "3d27f6bd",
   "metadata": {},
   "outputs": [
    {
     "name": "stdout",
     "output_type": "stream",
     "text": [
      "Example input feature (combined contract name, description and vendor: \n",
      " red wing velazquez jose red wing velazquez jose red wing shoe store\n",
      "\n",
      "Prediction: \n",
      "   28586 0.0000\n",
      " 7452114 0.0000\n",
      "   72582 0.0048\n",
      "   20464 0.0000\n",
      "   28574 0.0000\n",
      "   80072 0.2805\n",
      "   20811 0.0000\n",
      "   54523 0.0000\n",
      " 7450841 0.0000\n",
      "  555444 0.0000\n",
      "\n",
      "Answer: \n",
      "28586      0\n",
      "7452114    0\n",
      "72582      0\n",
      "20464      0\n",
      "28574      0\n",
      "80072      1\n",
      "20811      0\n",
      "54523      0\n",
      "7450841    0\n",
      "555444     0\n",
      "Name: 4948, dtype: uint8\n"
     ]
    }
   ],
   "source": [
    "# investigate predictions on specific examples\n",
    "\n",
    "eg = 10\n",
    "\n",
    "example = test_input.iloc[eg]\n",
    "print(\"Example input feature (combined contract name, description and vendor: \\n\", example)\n",
    "\n",
    "prediction = model.predict([example])\n",
    "\n",
    "print(\"\\nPrediction: \")\n",
    "for code_desc, pred in zip(codes[\"COMMODITY_CODE\"].tolist(), prediction[0]):\n",
    "    print(f\"{code_desc:8}\", f\"{pred:.4f}\")\n",
    "\n",
    "print(\"\\nAnswer: \")\n",
    "print(test_labels.iloc[eg])"
   ]
  },
  {
   "cell_type": "code",
   "execution_count": 50,
   "id": "1b4f7900",
   "metadata": {},
   "outputs": [],
   "source": [
    "# extract accuracy and loss data across epochs of training from model history object\n",
    "\n",
    "history_dict = history.history\n",
    "\n",
    "acc = history_dict['accuracy']\n",
    "val_acc = history_dict['val_accuracy']\n",
    "loss = history_dict['loss']\n",
    "val_loss = history_dict['val_loss']\n",
    "\n",
    "epochs = range(EPOCHS)"
   ]
  },
  {
   "cell_type": "code",
   "execution_count": 51,
   "id": "329c8daa",
   "metadata": {},
   "outputs": [
    {
     "data": {
      "image/png": "[encoded data removed]",
      "text/plain": [
       "<Figure size 432x288 with 1 Axes>"
      ]
     },
     "metadata": {
      "needs_background": "light"
     },
     "output_type": "display_data"
    }
   ],
   "source": [
    "# plot loss against epochs of training\n",
    "\n",
    "plt.plot(epochs, loss, 'ro', label='Training loss')\n",
    "plt.plot(epochs, val_loss, 'r', label='Validation loss')\n",
    "plt.title('Loss')\n",
    "plt.xlabel('Epochs')\n",
    "plt.ylabel('Loss')\n",
    "plt.legend()\n",
    "\n",
    "plt.show()"
   ]
  },
  {
   "cell_type": "code",
   "execution_count": 52,
   "id": "8132034c",
   "metadata": {},
   "outputs": [
    {
     "data": {
      "image/png": "[encoded data removed]",
      "text/plain": [
       "<Figure size 432x288 with 1 Axes>"
      ]
     },
     "metadata": {
      "needs_background": "light"
     },
     "output_type": "display_data"
    }
   ],
   "source": [
    "# plot model accuracy against epochs of training\n",
    "\n",
    "plt.plot(epochs, acc, 'bo', label='Training accuracy')\n",
    "plt.plot(epochs, val_acc, 'b', label='Validation accuracy')\n",
    "plt.title('Accuracy')\n",
    "plt.xlabel('Epochs')\n",
    "plt.ylabel('Accuracy')\n",
    "plt.legend()\n",
    "\n",
    "plt.show()"
   ]
  }
 ],
 "metadata": {
  "kernelspec": {
   "display_name": "Python 3",
   "language": "python",
   "name": "python3"
  },
  "language_info": {
   "codemirror_mode": {
    "name": "ipython",
    "version": 3
   },
   "file_extension": ".py",
   "mimetype": "text/x-python",
   "name": "python",
   "nbconvert_exporter": "python",
   "pygments_lexer": "ipython3",
   "version": "3.9.5"
  }
 },
 "nbformat": 4,
 "nbformat_minor": 5
}
