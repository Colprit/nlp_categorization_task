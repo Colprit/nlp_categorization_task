{
 "cells": [
  {
   "cell_type": "code",
   "execution_count": null,
   "id": "b6a1ead3",
   "metadata": {},
   "outputs": [],
   "source": [
    "!pip install \\\n",
    "    numpy \\\n",
    "    pandas \\\n",
    "    sklearn \\\n",
    "    matplotlib \\\n",
    "    openpyxl \\\n",
    "    tensorflow \\\n",
    "    tensorflow_hub \\\n",
    "    nltk"
   ]
  },
  {
   "cell_type": "code",
   "execution_count": null,
   "id": "344d2139",
   "metadata": {
    "scrolled": true
   },
   "outputs": [],
   "source": [
    "import re\n",
    "import numpy as np\n",
    "import pandas as pd\n",
    "from sklearn.model_selection import train_test_split\n",
    "import matplotlib.pyplot as plt\n",
    "\n",
    "import tensorflow as tf\n",
    "import tensorflow_hub as hub"
   ]
  },
  {
   "cell_type": "code",
   "execution_count": null,
   "id": "924d60ba",
   "metadata": {},
   "outputs": [],
   "source": [
    "# read in data\n",
    "raw_data = pd.read_excel('purchase_orders_final.xlsx')"
   ]
  },
  {
   "cell_type": "code",
   "execution_count": null,
   "id": "58922dcb",
   "metadata": {},
   "outputs": [],
   "source": [
    "# remove contracts with the same name\n",
    "# to avoid data leakage between training and validation data\n",
    "# which would lead to inflated accuracy scores\n",
    "raw_data = raw_data.drop_duplicates(subset=['CONTRACT_NAME'])"
   ]
  },
  {
   "cell_type": "code",
   "execution_count": null,
   "id": "c80f4abc",
   "metadata": {},
   "outputs": [],
   "source": [
    "data = pd.DataFrame()\n",
    "\n",
    "# create a single combined feature based on the three fields with most obvious predictive power\n",
    "data['feature'] = raw_data['CONTRACT_NAME'].astype(str) + ' ' + \\\n",
    "                  raw_data['EXTENDED_DESCRIPTION'].astype(str) + ' ' + \\\n",
    "                  raw_data['VENDOR_NAME'].astype(str)\n",
    "# ignoring other fields for now because a simpler model is more easily trained, retrained, and explained\n",
    "# and there is no point making a more complicated model when a simpler one will be sufficient"
   ]
  },
  {
   "cell_type": "code",
   "execution_count": null,
   "id": "c7ca0e84",
   "metadata": {},
   "outputs": [],
   "source": [
    "# clean and prep the feature data\n",
    "# << TODO: investigate relevance of digits or punctuation for further iterations >>\n",
    "\n",
    "# - remove digits\n",
    "data['feature'] = data['feature'].str.replace(r'\\d+', ' ', regex=True)\n",
    "\n",
    "# - remove punctuation\n",
    "data['feature'] = data['feature'].str.replace(r'[^\\w\\s]+', ' ', regex=True)\n",
    "\n",
    "# - remove repeated whitespace\n",
    "data['feature'] = data['feature'].str.replace(r'\\s+', ' ', regex=True)\n",
    "\n",
    "# - convert to lowercase\n",
    "data['feature'] = data['feature'].str.lower()\n",
    "\n",
    "print(data['feature'])"
   ]
  },
  {
   "cell_type": "code",
   "execution_count": null,
   "id": "c6b6c393",
   "metadata": {},
   "outputs": [],
   "source": [
    "# remove english stop words which will contain little predictive power\n",
    "# and will distract from the more important vocabulary within the feature\n",
    "\n",
    "import nltk\n",
    "nltk.download('stopwords')\n",
    "from nltk.corpus import stopwords\n",
    "stop = stopwords.words('english')\n",
    "\n",
    "def remove_stopwords(sentence):\n",
    "    return \" \".join([word\n",
    "                     for word in sentence.split(\" \")\n",
    "                     if word not in stop])\n",
    "\n",
    "data['feature'] = data['feature'].apply(remove_stopwords)\n",
    "\n",
    "print(data['feature'])"
   ]
  },
  {
   "cell_type": "code",
   "execution_count": null,
   "id": "b43a6057",
   "metadata": {},
   "outputs": [],
   "source": [
    "# inspect the number of labels (codes)\n",
    "codes = raw_data[['COMMODITY_CODE', 'COMMODITY_DESCRIPTION']].drop_duplicates()\n",
    "print(codes)"
   ]
  },
  {
   "cell_type": "code",
   "execution_count": null,
   "id": "ce0d0b4d",
   "metadata": {},
   "outputs": [],
   "source": [
    "# the comodity codes are simply IDs, for the purpose of simpler model training use one hot encoding\n",
    "onehot = pd.get_dummies(raw_data['COMMODITY_CODE'])\n",
    "\n",
    "print(onehot)"
   ]
  },
  {
   "cell_type": "code",
   "execution_count": null,
   "id": "bbe0d989",
   "metadata": {},
   "outputs": [],
   "source": [
    "# combine feature and labels into a single dataframe\n",
    "data = data['feature'].to_frame()\n",
    "\n",
    "data = data.join(onehot)\n",
    "\n",
    "print(data)"
   ]
  },
  {
   "cell_type": "code",
   "execution_count": null,
   "id": "a1152da8",
   "metadata": {},
   "outputs": [],
   "source": [
    "# split data into train and test samples\n",
    "train, test = train_test_split(data, test_size=0.2)\n",
    "\n",
    "\n",
    "# split data into input and label\n",
    "labels = codes['COMMODITY_CODE'].tolist()\n",
    "\n",
    "train_input = train['feature']\n",
    "train_labels = train[labels]\n",
    "\n",
    "test_input = test['feature']\n",
    "test_labels = test[labels]"
   ]
  },
  {
   "cell_type": "code",
   "execution_count": null,
   "id": "61386208",
   "metadata": {},
   "outputs": [],
   "source": [
    "# check whether GPU is avaliable\n",
    "print(\"GPU is\", \"available\" if tf.config.list_physical_devices('GPU') else \"NOT AVAILABLE\")"
   ]
  },
  {
   "cell_type": "code",
   "execution_count": null,
   "id": "bbeb0fb8",
   "metadata": {},
   "outputs": [],
   "source": [
    "# download text embedding layer from TensorFlow hub\n",
    "# << TODO: investigate performance using other avliable embedding layers >>\n",
    "# << TODO: investigate extending embedding to perform better with less specific vocabulary in data >>\n",
    "model = \"https://tfhub.dev/google/nnlm-en-dim50/2\"\n",
    "hub_layer = hub.KerasLayer(model, input_shape=[], dtype=tf.string, trainable=True)\n",
    "\n",
    "# output two sample feature embeddings\n",
    "print(hub_layer(train_input[:2]))"
   ]
  },
  {
   "cell_type": "code",
   "execution_count": null,
   "id": "f34b671a",
   "metadata": {},
   "outputs": [],
   "source": [
    "# build simple two layer sequential Keras model using\n",
    "# - text embedding layer\n",
    "# - simple dense layer outputing to a node for each commodity code\n",
    "model = tf.keras.Sequential()\n",
    "model.add(hub_layer)\n",
    "model.add(tf.keras.layers.Dense(len(labels), activation='relu'))\n",
    "\n",
    "model.summary()"
   ]
  },
  {
   "cell_type": "code",
   "execution_count": null,
   "id": "4a8267bc",
   "metadata": {},
   "outputs": [],
   "source": [
    "# compile model with choice of standard optimizer and loss functions\n",
    "# << TODO: investigate performance using different optimizer and loss functions >>\n",
    "\n",
    "model.compile(optimizer='adam',\n",
    "              loss=tf.losses.BinaryCrossentropy(from_logits=True),\n",
    "              metrics=[tf.metrics.BinaryAccuracy(threshold=0.0, name='accuracy')])"
   ]
  },
  {
   "cell_type": "code",
   "execution_count": null,
   "id": "0cc35aa0",
   "metadata": {},
   "outputs": [],
   "source": [
    "EPOCHS = 20\n",
    "\n",
    "# train the model\n",
    "# fit the model to the training data using the Keras method .fit()\n",
    "history = model.fit(train_input,\n",
    "                    train_labels,\n",
    "                    epochs=EPOCHS,\n",
    "                    batch_size=256,\n",
    "                    shuffle=True,\n",
    "                    validation_split=0.8,\n",
    "                    verbose=1)"
   ]
  },
  {
   "cell_type": "code",
   "execution_count": null,
   "id": "cb2d7c66",
   "metadata": {},
   "outputs": [],
   "source": [
    "# compute results on test data\n",
    "\n",
    "test_loss, test_accuracy = model.evaluate(test_input, test_labels)\n",
    "\n",
    "print(\"Test Loss: \", test_loss)\n",
    "print(\"Test Accuracy: \", test_accuracy)"
   ]
  },
  {
   "cell_type": "code",
   "execution_count": null,
   "id": "11379fdb",
   "metadata": {},
   "outputs": [],
   "source": [
    "# investigate predictions on specific examples\n",
    "\n",
    "eg = 10\n",
    "\n",
    "example = test_input.iloc[eg]\n",
    "print(\"Example input feature (combined contract name, description and vendor: \\n\", example)\n",
    "\n",
    "prediction = model.predict([example])\n",
    "\n",
    "print(\"\\nPrediction: \")\n",
    "for code_desc, pred in zip(codes[\"COMMODITY_CODE\"].tolist(), prediction[0]):\n",
    "    print(f\"{code_desc:8}\", f\"{pred:.4f}\")\n",
    "\n",
    "print(\"\\nAnswer: \")\n",
    "print(test_labels.iloc[eg])"
   ]
  },
  {
   "cell_type": "code",
   "execution_count": null,
   "id": "4e19ce35",
   "metadata": {},
   "outputs": [],
   "source": [
    "# extract accuracy and loss data across epochs of training from model history object\n",
    "\n",
    "history_dict = history.history\n",
    "\n",
    "acc = history_dict['accuracy']\n",
    "val_acc = history_dict['val_accuracy']\n",
    "loss = history_dict['loss']\n",
    "val_loss = history_dict['val_loss']\n",
    "\n",
    "epochs = range(EPOCHS)"
   ]
  },
  {
   "cell_type": "code",
   "execution_count": null,
   "id": "329c8daa",
   "metadata": {},
   "outputs": [],
   "source": [
    "# plot loss against epochs of training\n",
    "\n",
    "plt.plot(epochs, loss, 'ro', label='Training loss')\n",
    "plt.plot(epochs, val_loss, 'r', label='Validation loss')\n",
    "plt.title('Loss')\n",
    "plt.xlabel('Epochs')\n",
    "plt.ylabel('Loss')\n",
    "plt.legend()\n",
    "\n",
    "plt.show()"
   ]
  },
  {
   "cell_type": "code",
   "execution_count": null,
   "id": "8132034c",
   "metadata": {},
   "outputs": [],
   "source": [
    "# plot model accuracy against epochs of training\n",
    "\n",
    "plt.plot(epochs, acc, 'bo', label='Training accuracy')\n",
    "plt.plot(epochs, val_acc, 'b', label='Validation accuracy')\n",
    "plt.title('Accuracy')\n",
    "plt.xlabel('Epochs')\n",
    "plt.ylabel('Accuracy')\n",
    "plt.legend()\n",
    "\n",
    "plt.show()"
   ]
  }
 ],
 "metadata": {
  "kernelspec": {
   "display_name": "Python 3",
   "language": "python",
   "name": "python3"
  },
  "language_info": {
   "codemirror_mode": {
    "name": "ipython",
    "version": 3
   },
   "file_extension": ".py",
   "mimetype": "text/x-python",
   "name": "python",
   "nbconvert_exporter": "python",
   "pygments_lexer": "ipython3",
   "version": "3.9.5"
  }
 },
 "nbformat": 4,
 "nbformat_minor": 5
}
